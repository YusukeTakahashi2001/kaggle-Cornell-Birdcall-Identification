{
 "cells": [
  {
   "cell_type": "markdown",
   "metadata": {},
   "source": [
    "# Overview\n",
    "\n",
    "- nb004で作成した特徴量を使ってrfcモデルを作成する。"
   ]
  },
  {
   "cell_type": "markdown",
   "metadata": {},
   "source": [
    "# Const"
   ]
  },
  {
   "cell_type": "code",
   "execution_count": 1,
   "metadata": {},
   "outputs": [],
   "source": [
    "NB = '006'\n",
    "DIR_AUDIO = './../data_ignore/official/train_audio'\n",
    "DIR_MODEL = './../data/model'\n",
    "FEATSETS = 'nb004_librosa_mfcc.csv'\n",
    "PATH_FEAT = f'./../data_ignore/features/table/{FEATSETS}'\n",
    "PATH_TRAIN_CSV = './../data_ignore/official/train.csv'\n",
    "N_FOLD = 5"
   ]
  },
  {
   "cell_type": "markdown",
   "metadata": {},
   "source": [
    "# Import everything I need :)"
   ]
  },
  {
   "cell_type": "code",
   "execution_count": 2,
   "metadata": {},
   "outputs": [],
   "source": [
    "import os\n",
    "import sys\n",
    "import time\n",
    "import pickle\n",
    "import numpy as np\n",
    "import pandas as pd\n",
    "from sklearn.model_selection import KFold\n",
    "from sklearn.ensemble import RandomForestClassifier\n",
    "from sklearn.metrics import accuracy_score\n",
    "\n",
    "sys.path.insert(0, './../src/util/')\n",
    "from const import BIRD_CODE, INV_BIRD_CODE"
   ]
  },
  {
   "cell_type": "markdown",
   "metadata": {},
   "source": [
    "# My function"
   ]
  },
  {
   "cell_type": "code",
   "execution_count": null,
   "metadata": {},
   "outputs": [],
   "source": []
  },
  {
   "cell_type": "markdown",
   "metadata": {},
   "source": [
    "# Preparation"
   ]
  },
  {
   "cell_type": "markdown",
   "metadata": {},
   "source": [
    "setting"
   ]
  },
  {
   "cell_type": "code",
   "execution_count": 3,
   "metadata": {},
   "outputs": [],
   "source": [
    "pd.set_option('display.max_columns', 100)"
   ]
  },
  {
   "cell_type": "markdown",
   "metadata": {},
   "source": [
    "<br>\n",
    "\n",
    "loading"
   ]
  },
  {
   "cell_type": "code",
   "execution_count": 4,
   "metadata": {},
   "outputs": [
    {
     "data": {
      "text/html": [
       "<div>\n",
       "<style scoped>\n",
       "    .dataframe tbody tr th:only-of-type {\n",
       "        vertical-align: middle;\n",
       "    }\n",
       "\n",
       "    .dataframe tbody tr th {\n",
       "        vertical-align: top;\n",
       "    }\n",
       "\n",
       "    .dataframe thead th {\n",
       "        text-align: right;\n",
       "    }\n",
       "</style>\n",
       "<table border=\"1\" class=\"dataframe\">\n",
       "  <thead>\n",
       "    <tr style=\"text-align: right;\">\n",
       "      <th></th>\n",
       "      <th>librosa_mfcc_2</th>\n",
       "      <th>librosa_mfcc_3</th>\n",
       "      <th>librosa_mfcc_4</th>\n",
       "      <th>librosa_mfcc_5</th>\n",
       "      <th>librosa_mfcc_6</th>\n",
       "      <th>librosa_mfcc_7</th>\n",
       "      <th>librosa_mfcc_8</th>\n",
       "      <th>librosa_mfcc_9</th>\n",
       "      <th>librosa_mfcc_10</th>\n",
       "      <th>librosa_mfcc_11</th>\n",
       "      <th>librosa_mfcc_12</th>\n",
       "      <th>birds</th>\n",
       "      <th>filename</th>\n",
       "    </tr>\n",
       "  </thead>\n",
       "  <tbody>\n",
       "    <tr>\n",
       "      <th>0</th>\n",
       "      <td>6.57</td>\n",
       "      <td>-29.890</td>\n",
       "      <td>7.2200</td>\n",
       "      <td>-0.8910</td>\n",
       "      <td>1.132</td>\n",
       "      <td>-1.086</td>\n",
       "      <td>0.7397</td>\n",
       "      <td>1.1660</td>\n",
       "      <td>0.4950</td>\n",
       "      <td>-0.8760</td>\n",
       "      <td>0.2184</td>\n",
       "      <td>aldfly</td>\n",
       "      <td>XC134874.mp3</td>\n",
       "    </tr>\n",
       "    <tr>\n",
       "      <th>1</th>\n",
       "      <td>21.92</td>\n",
       "      <td>-13.020</td>\n",
       "      <td>5.3240</td>\n",
       "      <td>5.5660</td>\n",
       "      <td>-0.261</td>\n",
       "      <td>-3.242</td>\n",
       "      <td>1.2250</td>\n",
       "      <td>1.0030</td>\n",
       "      <td>1.7480</td>\n",
       "      <td>-1.1920</td>\n",
       "      <td>-0.1931</td>\n",
       "      <td>aldfly</td>\n",
       "      <td>XC135454.mp3</td>\n",
       "    </tr>\n",
       "    <tr>\n",
       "      <th>2</th>\n",
       "      <td>16.45</td>\n",
       "      <td>-14.470</td>\n",
       "      <td>8.0800</td>\n",
       "      <td>4.5700</td>\n",
       "      <td>-0.888</td>\n",
       "      <td>-3.943</td>\n",
       "      <td>2.5800</td>\n",
       "      <td>0.5890</td>\n",
       "      <td>0.9697</td>\n",
       "      <td>-0.3743</td>\n",
       "      <td>-0.7420</td>\n",
       "      <td>aldfly</td>\n",
       "      <td>XC135455.mp3</td>\n",
       "    </tr>\n",
       "    <tr>\n",
       "      <th>3</th>\n",
       "      <td>19.39</td>\n",
       "      <td>-12.805</td>\n",
       "      <td>6.5940</td>\n",
       "      <td>6.4180</td>\n",
       "      <td>-0.856</td>\n",
       "      <td>-4.598</td>\n",
       "      <td>1.6750</td>\n",
       "      <td>1.8410</td>\n",
       "      <td>1.8660</td>\n",
       "      <td>-1.0560</td>\n",
       "      <td>-0.8057</td>\n",
       "      <td>aldfly</td>\n",
       "      <td>XC135456.mp3</td>\n",
       "    </tr>\n",
       "    <tr>\n",
       "      <th>4</th>\n",
       "      <td>30.81</td>\n",
       "      <td>-3.867</td>\n",
       "      <td>0.5264</td>\n",
       "      <td>0.6313</td>\n",
       "      <td>-0.657</td>\n",
       "      <td>-3.547</td>\n",
       "      <td>1.3420</td>\n",
       "      <td>0.1382</td>\n",
       "      <td>1.0670</td>\n",
       "      <td>-0.0874</td>\n",
       "      <td>0.5970</td>\n",
       "      <td>aldfly</td>\n",
       "      <td>XC135457.mp3</td>\n",
       "    </tr>\n",
       "  </tbody>\n",
       "</table>\n",
       "</div>"
      ],
      "text/plain": [
       "   librosa_mfcc_2  librosa_mfcc_3  librosa_mfcc_4  librosa_mfcc_5  \\\n",
       "0            6.57         -29.890          7.2200         -0.8910   \n",
       "1           21.92         -13.020          5.3240          5.5660   \n",
       "2           16.45         -14.470          8.0800          4.5700   \n",
       "3           19.39         -12.805          6.5940          6.4180   \n",
       "4           30.81          -3.867          0.5264          0.6313   \n",
       "\n",
       "   librosa_mfcc_6  librosa_mfcc_7  librosa_mfcc_8  librosa_mfcc_9  \\\n",
       "0           1.132          -1.086          0.7397          1.1660   \n",
       "1          -0.261          -3.242          1.2250          1.0030   \n",
       "2          -0.888          -3.943          2.5800          0.5890   \n",
       "3          -0.856          -4.598          1.6750          1.8410   \n",
       "4          -0.657          -3.547          1.3420          0.1382   \n",
       "\n",
       "   librosa_mfcc_10  librosa_mfcc_11  librosa_mfcc_12   birds      filename  \n",
       "0           0.4950          -0.8760           0.2184  aldfly  XC134874.mp3  \n",
       "1           1.7480          -1.1920          -0.1931  aldfly  XC135454.mp3  \n",
       "2           0.9697          -0.3743          -0.7420  aldfly  XC135455.mp3  \n",
       "3           1.8660          -1.0560          -0.8057  aldfly  XC135456.mp3  \n",
       "4           1.0670          -0.0874           0.5970  aldfly  XC135457.mp3  "
      ]
     },
     "execution_count": 4,
     "metadata": {},
     "output_type": "execute_result"
    }
   ],
   "source": [
    "train_csv = pd.read_csv(PATH_TRAIN_CSV)\n",
    "df_feat = pd.read_csv(PATH_FEAT)\n",
    "df_feat.head()"
   ]
  },
  {
   "cell_type": "markdown",
   "metadata": {},
   "source": [
    "## create X, y"
   ]
  },
  {
   "cell_type": "code",
   "execution_count": 5,
   "metadata": {},
   "outputs": [],
   "source": [
    "y = df_feat['birds'].apply(lambda x: BIRD_CODE[x]).values\n",
    "X = df_feat.drop(['birds', 'filename'], axis=1)"
   ]
  },
  {
   "cell_type": "code",
   "execution_count": 6,
   "metadata": {},
   "outputs": [
    {
     "name": "stdout",
     "output_type": "stream",
     "text": [
      "[  0   0   0 ... 263 263 263]\n"
     ]
    },
    {
     "data": {
      "text/html": [
       "<div>\n",
       "<style scoped>\n",
       "    .dataframe tbody tr th:only-of-type {\n",
       "        vertical-align: middle;\n",
       "    }\n",
       "\n",
       "    .dataframe tbody tr th {\n",
       "        vertical-align: top;\n",
       "    }\n",
       "\n",
       "    .dataframe thead th {\n",
       "        text-align: right;\n",
       "    }\n",
       "</style>\n",
       "<table border=\"1\" class=\"dataframe\">\n",
       "  <thead>\n",
       "    <tr style=\"text-align: right;\">\n",
       "      <th></th>\n",
       "      <th>librosa_mfcc_2</th>\n",
       "      <th>librosa_mfcc_3</th>\n",
       "      <th>librosa_mfcc_4</th>\n",
       "      <th>librosa_mfcc_5</th>\n",
       "      <th>librosa_mfcc_6</th>\n",
       "      <th>librosa_mfcc_7</th>\n",
       "      <th>librosa_mfcc_8</th>\n",
       "      <th>librosa_mfcc_9</th>\n",
       "      <th>librosa_mfcc_10</th>\n",
       "      <th>librosa_mfcc_11</th>\n",
       "      <th>librosa_mfcc_12</th>\n",
       "    </tr>\n",
       "  </thead>\n",
       "  <tbody>\n",
       "    <tr>\n",
       "      <th>0</th>\n",
       "      <td>6.57</td>\n",
       "      <td>-29.890</td>\n",
       "      <td>7.2200</td>\n",
       "      <td>-0.8910</td>\n",
       "      <td>1.132</td>\n",
       "      <td>-1.086</td>\n",
       "      <td>0.7397</td>\n",
       "      <td>1.1660</td>\n",
       "      <td>0.4950</td>\n",
       "      <td>-0.8760</td>\n",
       "      <td>0.2184</td>\n",
       "    </tr>\n",
       "    <tr>\n",
       "      <th>1</th>\n",
       "      <td>21.92</td>\n",
       "      <td>-13.020</td>\n",
       "      <td>5.3240</td>\n",
       "      <td>5.5660</td>\n",
       "      <td>-0.261</td>\n",
       "      <td>-3.242</td>\n",
       "      <td>1.2250</td>\n",
       "      <td>1.0030</td>\n",
       "      <td>1.7480</td>\n",
       "      <td>-1.1920</td>\n",
       "      <td>-0.1931</td>\n",
       "    </tr>\n",
       "    <tr>\n",
       "      <th>2</th>\n",
       "      <td>16.45</td>\n",
       "      <td>-14.470</td>\n",
       "      <td>8.0800</td>\n",
       "      <td>4.5700</td>\n",
       "      <td>-0.888</td>\n",
       "      <td>-3.943</td>\n",
       "      <td>2.5800</td>\n",
       "      <td>0.5890</td>\n",
       "      <td>0.9697</td>\n",
       "      <td>-0.3743</td>\n",
       "      <td>-0.7420</td>\n",
       "    </tr>\n",
       "    <tr>\n",
       "      <th>3</th>\n",
       "      <td>19.39</td>\n",
       "      <td>-12.805</td>\n",
       "      <td>6.5940</td>\n",
       "      <td>6.4180</td>\n",
       "      <td>-0.856</td>\n",
       "      <td>-4.598</td>\n",
       "      <td>1.6750</td>\n",
       "      <td>1.8410</td>\n",
       "      <td>1.8660</td>\n",
       "      <td>-1.0560</td>\n",
       "      <td>-0.8057</td>\n",
       "    </tr>\n",
       "    <tr>\n",
       "      <th>4</th>\n",
       "      <td>30.81</td>\n",
       "      <td>-3.867</td>\n",
       "      <td>0.5264</td>\n",
       "      <td>0.6313</td>\n",
       "      <td>-0.657</td>\n",
       "      <td>-3.547</td>\n",
       "      <td>1.3420</td>\n",
       "      <td>0.1382</td>\n",
       "      <td>1.0670</td>\n",
       "      <td>-0.0874</td>\n",
       "      <td>0.5970</td>\n",
       "    </tr>\n",
       "  </tbody>\n",
       "</table>\n",
       "</div>"
      ],
      "text/plain": [
       "   librosa_mfcc_2  librosa_mfcc_3  librosa_mfcc_4  librosa_mfcc_5  \\\n",
       "0            6.57         -29.890          7.2200         -0.8910   \n",
       "1           21.92         -13.020          5.3240          5.5660   \n",
       "2           16.45         -14.470          8.0800          4.5700   \n",
       "3           19.39         -12.805          6.5940          6.4180   \n",
       "4           30.81          -3.867          0.5264          0.6313   \n",
       "\n",
       "   librosa_mfcc_6  librosa_mfcc_7  librosa_mfcc_8  librosa_mfcc_9  \\\n",
       "0           1.132          -1.086          0.7397          1.1660   \n",
       "1          -0.261          -3.242          1.2250          1.0030   \n",
       "2          -0.888          -3.943          2.5800          0.5890   \n",
       "3          -0.856          -4.598          1.6750          1.8410   \n",
       "4          -0.657          -3.547          1.3420          0.1382   \n",
       "\n",
       "   librosa_mfcc_10  librosa_mfcc_11  librosa_mfcc_12  \n",
       "0           0.4950          -0.8760           0.2184  \n",
       "1           1.7480          -1.1920          -0.1931  \n",
       "2           0.9697          -0.3743          -0.7420  \n",
       "3           1.8660          -1.0560          -0.8057  \n",
       "4           1.0670          -0.0874           0.5970  "
      ]
     },
     "execution_count": 6,
     "metadata": {},
     "output_type": "execute_result"
    }
   ],
   "source": [
    "print(y)\n",
    "X.head()"
   ]
  },
  {
   "cell_type": "markdown",
   "metadata": {},
   "source": [
    "## Train"
   ]
  },
  {
   "cell_type": "code",
   "execution_count": 7,
   "metadata": {},
   "outputs": [],
   "source": [
    "seed = 7\n",
    "model_params = {'n_estimators': 100,\n",
    "                'random_state': seed,\n",
    "               }"
   ]
  },
  {
   "cell_type": "code",
   "execution_count": 8,
   "metadata": {},
   "outputs": [
    {
     "name": "stdout",
     "output_type": "stream",
     "text": [
      "===== fold 1/5  Sun Aug  2 10:27:19 2020 =====\n",
      ":: score(train): 0.99971, score(valid) 0.12117 ::\n",
      "\n",
      "===== fold 2/5  Sun Aug  2 10:27:52 2020 =====\n",
      ":: score(train): 0.99982, score(valid) 0.12327 ::\n",
      "\n",
      "===== fold 3/5  Sun Aug  2 10:28:25 2020 =====\n",
      ":: score(train): 0.99977, score(valid) 0.12678 ::\n",
      "\n",
      "===== fold 4/5  Sun Aug  2 10:28:57 2020 =====\n",
      ":: score(train): 0.99977, score(valid) 0.12678 ::\n",
      "\n",
      "===== fold 5/5  Sun Aug  2 10:29:29 2020 =====\n",
      ":: score(train): 0.99965, score(valid) 0.12655 ::\n",
      "\n",
      "===== finish <built-in function ctime> =====\n",
      ":: score(train): mean=0.99974, std=0.00006 ::\n",
      ":: score(valid): mean=0.12491, std=0.00230 ::\n",
      ":: score(oof): 0.12491 ::\n",
      "CPU times: user 2min 31s, sys: 10.3 s, total: 2min 42s\n",
      "Wall time: 2min 42s\n"
     ]
    }
   ],
   "source": [
    "%%time\n",
    "kf = KFold(n_splits=N_FOLD, shuffle=True, random_state=seed)\n",
    "models = []\n",
    "scores_train = []\n",
    "scores_valid = []\n",
    "oof_pred = np.zeros(len(X))\n",
    "for fold_i, (train_idx, valid_idx) in enumerate(kf.split(X)):\n",
    "    print(f'===== fold {fold_i+1}/{N_FOLD}  {time.ctime()} =====')\n",
    "    X_train, X_valid = X.values[train_idx, :], X.values[valid_idx, :]\n",
    "    y_train, y_valid = y[train_idx], y[valid_idx]\n",
    "    \n",
    "    # init\n",
    "    model = RandomForestClassifier(**model_params)\n",
    "    \n",
    "    # fit\n",
    "    model.fit(X_train, y_train)\n",
    "    models.append(model)\n",
    "    y_train_pred = model.predict(X_train)\n",
    "    y_valid_pred = model.predict(X_valid)\n",
    "    oof_pred[valid_idx] = y_valid_pred\n",
    "    \n",
    "    # evaluate\n",
    "    acc_train = accuracy_score(y_train, y_train_pred)\n",
    "    acc_valid = accuracy_score(y_valid, y_valid_pred)\n",
    "    scores_train.append(acc_train)\n",
    "    scores_valid.append(acc_valid)\n",
    "    \n",
    "    print(f':: score(train): {acc_train :.5f}, score(valid) {acc_valid :.5f} ::\\n')\n",
    "    \n",
    "scores_train = np.array(scores_train)\n",
    "scores_valid = np.array(scores_valid)\n",
    "score_oof = accuracy_score(y, oof_pred)\n",
    "print(f'===== finish {time.ctime} =====')\n",
    "print(f':: score(train): mean={scores_train.mean():.5f}, std={scores_train.std():.5f} ::')\n",
    "print(f':: score(valid): mean={scores_valid.mean():.5f}, std={scores_valid.std():.5f} ::')\n",
    "print(f':: score(oof): {score_oof:.5f} ::')"
   ]
  },
  {
   "cell_type": "markdown",
   "metadata": {},
   "source": [
    "# Save model\n",
    "- 使った特徴量名(librosa_mfcc)も一緒に保存"
   ]
  },
  {
   "cell_type": "code",
   "execution_count": 9,
   "metadata": {},
   "outputs": [],
   "source": [
    "save_model_dict = {}\n",
    "save_model_dict['featsets'] = FEATSETS\n",
    "save_model_dict['feat_names'] = X.columns\n",
    "save_model_dict['models'] = models"
   ]
  },
  {
   "cell_type": "code",
   "execution_count": 10,
   "metadata": {},
   "outputs": [
    {
     "data": {
      "text/plain": [
       "'./../data/model/006_RandomForestClassifier/model_dict.pkl'"
      ]
     },
     "execution_count": 10,
     "metadata": {},
     "output_type": "execute_result"
    }
   ],
   "source": [
    "save_path = f'{DIR_MODEL}/{NB}_{model.__class__.__name__}/model_dict.pkl'\n",
    "\n",
    "# dir がなければ作成\n",
    "file_dir = os.path.dirname(save_path)\n",
    "if not os.path.exists(file_dir):\n",
    "    os.makedirs(file_dir)\n",
    "\n",
    "save_path"
   ]
  },
  {
   "cell_type": "code",
   "execution_count": 11,
   "metadata": {},
   "outputs": [
    {
     "ename": "MemoryError",
     "evalue": "",
     "output_type": "error",
     "traceback": [
      "\u001b[0;31m---------------------------------------------------------------------------\u001b[0m",
      "\u001b[0;31mMemoryError\u001b[0m                               Traceback (most recent call last)",
      "\u001b[0;32m<ipython-input-11-2e3cad6758be>\u001b[0m in \u001b[0;36m<module>\u001b[0;34m\u001b[0m\n\u001b[1;32m      1\u001b[0m \u001b[0;32mwith\u001b[0m \u001b[0mopen\u001b[0m\u001b[0;34m(\u001b[0m\u001b[0msave_path\u001b[0m\u001b[0;34m,\u001b[0m \u001b[0mmode\u001b[0m\u001b[0;34m=\u001b[0m\u001b[0;34m'wb'\u001b[0m\u001b[0;34m)\u001b[0m \u001b[0;32mas\u001b[0m \u001b[0mf\u001b[0m\u001b[0;34m:\u001b[0m\u001b[0;34m\u001b[0m\u001b[0;34m\u001b[0m\u001b[0m\n\u001b[0;32m----> 2\u001b[0;31m     \u001b[0mpickle\u001b[0m\u001b[0;34m.\u001b[0m\u001b[0mdump\u001b[0m\u001b[0;34m(\u001b[0m\u001b[0msave_model_dict\u001b[0m\u001b[0;34m,\u001b[0m \u001b[0mf\u001b[0m\u001b[0;34m)\u001b[0m\u001b[0;34m\u001b[0m\u001b[0;34m\u001b[0m\u001b[0m\n\u001b[0m",
      "\u001b[0;31mMemoryError\u001b[0m: "
     ]
    }
   ],
   "source": [
    "with open(save_path, mode='wb') as f:\n",
    "    pickle.dump(save_model_dict, f)"
   ]
  },
  {
   "cell_type": "code",
   "execution_count": null,
   "metadata": {},
   "outputs": [],
   "source": [
    "save_model_dict"
   ]
  },
  {
   "cell_type": "markdown",
   "metadata": {},
   "source": [
    "# Load"
   ]
  },
  {
   "cell_type": "code",
   "execution_count": null,
   "metadata": {},
   "outputs": [],
   "source": []
  },
  {
   "cell_type": "code",
   "execution_count": null,
   "metadata": {},
   "outputs": [],
   "source": []
  },
  {
   "cell_type": "raw",
   "metadata": {},
   "source": [
    "\n",
    "\n",
    "\n",
    "\n",
    "\n",
    "\n",
    "\n",
    "\n",
    "\n",
    "\n",
    "\n",
    "\n",
    "\n",
    "\n",
    "\n",
    "\n",
    "\n",
    "\n",
    "\n",
    "\n",
    "\n",
    "\n",
    "\n",
    "\n",
    "\n",
    "\n"
   ]
  }
 ],
 "metadata": {
  "kernelspec": {
   "display_name": "Python 3",
   "language": "python",
   "name": "python3"
  },
  "language_info": {
   "codemirror_mode": {
    "name": "ipython",
    "version": 3
   },
   "file_extension": ".py",
   "mimetype": "text/x-python",
   "name": "python",
   "nbconvert_exporter": "python",
   "pygments_lexer": "ipython3",
   "version": "3.6.10"
  },
  "toc-autonumbering": true
 },
 "nbformat": 4,
 "nbformat_minor": 4
}
