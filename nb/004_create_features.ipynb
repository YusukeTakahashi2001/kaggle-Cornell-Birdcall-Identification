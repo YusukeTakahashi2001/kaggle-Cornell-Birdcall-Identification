{
 "cells": [
  {
   "cell_type": "markdown",
   "metadata": {},
   "source": [
    "# Overview\n",
    "librosa を使って簡単な特徴量を作ってみる"
   ]
  },
  {
   "cell_type": "markdown",
   "metadata": {},
   "source": [
    "# Const"
   ]
  },
  {
   "cell_type": "code",
   "execution_count": 81,
   "metadata": {},
   "outputs": [],
   "source": [
    "NB = '004'\n",
    "DIR_FEAT = './../data_ignore/features/table'\n",
    "DIR_AUDIO = './../data_ignore/official/train_audio'\n",
    "PATH_TRAIN_CSV = './../data_ignore/official/train.csv'"
   ]
  },
  {
   "cell_type": "markdown",
   "metadata": {},
   "source": [
    "# Import everything I need :)"
   ]
  },
  {
   "cell_type": "code",
   "execution_count": 2,
   "metadata": {},
   "outputs": [],
   "source": [
    "import warnings\n",
    "warnings.filterwarnings('ignore')\n",
    "import glob\n",
    "import pandas as pd\n",
    "import numpy as np\n",
    "import librosa\n",
    "from fastprogress import progress_bar\n",
    "import matplotlib.pyplot as plt\n",
    "import seaborn as sns"
   ]
  },
  {
   "cell_type": "markdown",
   "metadata": {},
   "source": [
    "# My function"
   ]
  },
  {
   "cell_type": "code",
   "execution_count": 51,
   "metadata": {},
   "outputs": [],
   "source": [
    "def extract_mfccs(x, sr, n_fft, hop_length, n_mels):\n",
    "    mfccs = librosa.feature.mfcc(y=x,\n",
    "                                 sr=sr,\n",
    "                                 n_fft=n_fft,\n",
    "                                 hop_length=hop_length,\n",
    "                                 center=False,\n",
    "                                 n_mels=n_mels)\n",
    "    feat_name = [f'librosa_mfcc_{i+1}' for i in range(n_mels)]\n",
    "    return mfccs.T, feat_name\n",
    "\n",
    "def reduce_mem_usage(df, verbose=True):\n",
    "    numerics = ['int16', 'int32', 'int64', 'float16', 'float32', 'float64']\n",
    "    start_mem = df.memory_usage().sum() / 1024**2\n",
    "    for col in progress_bar(df.columns):\n",
    "        col_type = df[col].dtypes\n",
    "        if col_type in numerics:\n",
    "            c_min = df[col].min()\n",
    "            c_max = df[col].max()\n",
    "            if str(col_type)[:3] == 'int':\n",
    "                if c_min > np.iinfo(np.int8).min and c_max < np.iinfo(np.int8).max:\n",
    "                    df[col] = df[col].astype(np.int8)\n",
    "                elif c_min > np.iinfo(np.int16).min and c_max < np.iinfo(np.int16).max:\n",
    "                    df[col] = df[col].astype(np.int16)\n",
    "                elif c_min > np.iinfo(np.int32).min and c_max < np.iinfo(np.int32).max:\n",
    "                    df[col] = df[col].astype(np.int32)\n",
    "                elif c_min > np.iinfo(np.int64).min and c_max < np.iinfo(np.int64).max:\n",
    "                    df[col] = df[col].astype(np.int64)\n",
    "            else:\n",
    "                if c_min > np.finfo(np.float16).min and c_max < np.finfo(np.float16).max:\n",
    "                    df[col] = df[col].astype(np.float16)\n",
    "                elif c_min > np.finfo(np.float32).min and c_max < np.finfo(np.float32).max:\n",
    "                    df[col] = df[col].astype(np.float32)\n",
    "                else:\n",
    "                    df[col] = df[col].astype(np.float64)\n",
    "    end_mem = df.memory_usage().sum() / 1024**2\n",
    "    if verbose: print('Mem. usage decreased to {:5.2f} Mb ({:.1f}% reduction)'.format(end_mem, 100 * (start_mem - end_mem) / start_mem))\n",
    "    return df"
   ]
  },
  {
   "cell_type": "markdown",
   "metadata": {},
   "source": [
    "# Preparation"
   ]
  },
  {
   "cell_type": "markdown",
   "metadata": {},
   "source": [
    "settings"
   ]
  },
  {
   "cell_type": "code",
   "execution_count": 3,
   "metadata": {},
   "outputs": [],
   "source": [
    "pd.set_option('display.max_columns', 100)"
   ]
  },
  {
   "cell_type": "markdown",
   "metadata": {},
   "source": [
    "<br>\n",
    "load train.csv"
   ]
  },
  {
   "cell_type": "code",
   "execution_count": 4,
   "metadata": {},
   "outputs": [
    {
     "data": {
      "text/html": [
       "<div>\n",
       "<style scoped>\n",
       "    .dataframe tbody tr th:only-of-type {\n",
       "        vertical-align: middle;\n",
       "    }\n",
       "\n",
       "    .dataframe tbody tr th {\n",
       "        vertical-align: top;\n",
       "    }\n",
       "\n",
       "    .dataframe thead th {\n",
       "        text-align: right;\n",
       "    }\n",
       "</style>\n",
       "<table border=\"1\" class=\"dataframe\">\n",
       "  <thead>\n",
       "    <tr style=\"text-align: right;\">\n",
       "      <th></th>\n",
       "      <th>rating</th>\n",
       "      <th>playback_used</th>\n",
       "      <th>ebird_code</th>\n",
       "      <th>channels</th>\n",
       "      <th>date</th>\n",
       "      <th>pitch</th>\n",
       "      <th>duration</th>\n",
       "      <th>filename</th>\n",
       "      <th>speed</th>\n",
       "      <th>species</th>\n",
       "      <th>number_of_notes</th>\n",
       "      <th>title</th>\n",
       "      <th>secondary_labels</th>\n",
       "      <th>bird_seen</th>\n",
       "      <th>sci_name</th>\n",
       "      <th>location</th>\n",
       "      <th>latitude</th>\n",
       "      <th>sampling_rate</th>\n",
       "      <th>type</th>\n",
       "      <th>elevation</th>\n",
       "      <th>description</th>\n",
       "      <th>bitrate_of_mp3</th>\n",
       "      <th>file_type</th>\n",
       "      <th>volume</th>\n",
       "      <th>background</th>\n",
       "      <th>xc_id</th>\n",
       "      <th>url</th>\n",
       "      <th>country</th>\n",
       "      <th>author</th>\n",
       "      <th>primary_label</th>\n",
       "      <th>longitude</th>\n",
       "      <th>length</th>\n",
       "      <th>time</th>\n",
       "      <th>recordist</th>\n",
       "      <th>license</th>\n",
       "    </tr>\n",
       "  </thead>\n",
       "  <tbody>\n",
       "    <tr>\n",
       "      <th>0</th>\n",
       "      <td>3.5</td>\n",
       "      <td>no</td>\n",
       "      <td>aldfly</td>\n",
       "      <td>1 (mono)</td>\n",
       "      <td>2013-05-25</td>\n",
       "      <td>Not specified</td>\n",
       "      <td>25</td>\n",
       "      <td>XC134874.mp3</td>\n",
       "      <td>Not specified</td>\n",
       "      <td>Alder Flycatcher</td>\n",
       "      <td>Not specified</td>\n",
       "      <td>XC134874 Alder Flycatcher (Empidonax alnorum)</td>\n",
       "      <td>['Empidonax minimus_Least Flycatcher', 'Leioth...</td>\n",
       "      <td>yes</td>\n",
       "      <td>Empidonax alnorum</td>\n",
       "      <td>Grey Cloud Dunes SNA, Washington, Minnesota</td>\n",
       "      <td>44.793</td>\n",
       "      <td>48000 (Hz)</td>\n",
       "      <td>call</td>\n",
       "      <td>220 m</td>\n",
       "      <td>Two short segments of fairly quiet *pip* calls...</td>\n",
       "      <td>192000 (bps)</td>\n",
       "      <td>mp3</td>\n",
       "      <td>Not specified</td>\n",
       "      <td>American Yellow Warbler (Setophaga aestiva); L...</td>\n",
       "      <td>134874</td>\n",
       "      <td>https://www.xeno-canto.org/134874</td>\n",
       "      <td>United States</td>\n",
       "      <td>Jonathon Jongsma</td>\n",
       "      <td>Empidonax alnorum_Alder Flycatcher</td>\n",
       "      <td>-92.962</td>\n",
       "      <td>Not specified</td>\n",
       "      <td>8:00</td>\n",
       "      <td>Jonathon Jongsma</td>\n",
       "      <td>Creative Commons Attribution-ShareAlike 3.0</td>\n",
       "    </tr>\n",
       "    <tr>\n",
       "      <th>1</th>\n",
       "      <td>4.0</td>\n",
       "      <td>no</td>\n",
       "      <td>aldfly</td>\n",
       "      <td>2 (stereo)</td>\n",
       "      <td>2013-05-27</td>\n",
       "      <td>both</td>\n",
       "      <td>36</td>\n",
       "      <td>XC135454.mp3</td>\n",
       "      <td>both</td>\n",
       "      <td>Alder Flycatcher</td>\n",
       "      <td>1-3</td>\n",
       "      <td>XC135454 Alder Flycatcher (Empidonax alnorum)</td>\n",
       "      <td>[]</td>\n",
       "      <td>yes</td>\n",
       "      <td>Empidonax alnorum</td>\n",
       "      <td>Carver's Gap Parking area, Roan Mountain Stat...</td>\n",
       "      <td>36.1065</td>\n",
       "      <td>44100 (Hz)</td>\n",
       "      <td>call, song</td>\n",
       "      <td>1700 m</td>\n",
       "      <td>At least three birds seen here moving around s...</td>\n",
       "      <td>128000 (bps)</td>\n",
       "      <td>mp3</td>\n",
       "      <td>level</td>\n",
       "      <td>NaN</td>\n",
       "      <td>135454</td>\n",
       "      <td>https://www.xeno-canto.org/135454</td>\n",
       "      <td>United States</td>\n",
       "      <td>Mike Nelson</td>\n",
       "      <td>Empidonax alnorum_Alder Flycatcher</td>\n",
       "      <td>-82.1106</td>\n",
       "      <td>0-3(s)</td>\n",
       "      <td>08:30</td>\n",
       "      <td>Mike Nelson</td>\n",
       "      <td>Creative Commons Attribution-NonCommercial-Sha...</td>\n",
       "    </tr>\n",
       "  </tbody>\n",
       "</table>\n",
       "</div>"
      ],
      "text/plain": [
       "   rating playback_used ebird_code    channels        date          pitch  \\\n",
       "0     3.5            no     aldfly    1 (mono)  2013-05-25  Not specified   \n",
       "1     4.0            no     aldfly  2 (stereo)  2013-05-27           both   \n",
       "\n",
       "   duration      filename          speed           species number_of_notes  \\\n",
       "0        25  XC134874.mp3  Not specified  Alder Flycatcher   Not specified   \n",
       "1        36  XC135454.mp3           both  Alder Flycatcher             1-3   \n",
       "\n",
       "                                           title  \\\n",
       "0  XC134874 Alder Flycatcher (Empidonax alnorum)   \n",
       "1  XC135454 Alder Flycatcher (Empidonax alnorum)   \n",
       "\n",
       "                                    secondary_labels bird_seen  \\\n",
       "0  ['Empidonax minimus_Least Flycatcher', 'Leioth...       yes   \n",
       "1                                                 []       yes   \n",
       "\n",
       "            sci_name                                           location  \\\n",
       "0  Empidonax alnorum        Grey Cloud Dunes SNA, Washington, Minnesota   \n",
       "1  Empidonax alnorum   Carver's Gap Parking area, Roan Mountain Stat...   \n",
       "\n",
       "  latitude sampling_rate        type elevation  \\\n",
       "0   44.793    48000 (Hz)        call     220 m   \n",
       "1  36.1065    44100 (Hz)  call, song    1700 m   \n",
       "\n",
       "                                         description bitrate_of_mp3 file_type  \\\n",
       "0  Two short segments of fairly quiet *pip* calls...   192000 (bps)       mp3   \n",
       "1  At least three birds seen here moving around s...   128000 (bps)       mp3   \n",
       "\n",
       "          volume                                         background   xc_id  \\\n",
       "0  Not specified  American Yellow Warbler (Setophaga aestiva); L...  134874   \n",
       "1          level                                                NaN  135454   \n",
       "\n",
       "                                 url        country            author  \\\n",
       "0  https://www.xeno-canto.org/134874  United States  Jonathon Jongsma   \n",
       "1  https://www.xeno-canto.org/135454  United States       Mike Nelson   \n",
       "\n",
       "                        primary_label longitude         length   time  \\\n",
       "0  Empidonax alnorum_Alder Flycatcher   -92.962  Not specified   8:00   \n",
       "1  Empidonax alnorum_Alder Flycatcher  -82.1106         0-3(s)  08:30   \n",
       "\n",
       "          recordist                                            license  \n",
       "0  Jonathon Jongsma        Creative Commons Attribution-ShareAlike 3.0  \n",
       "1       Mike Nelson  Creative Commons Attribution-NonCommercial-Sha...  "
      ]
     },
     "execution_count": 4,
     "metadata": {},
     "output_type": "execute_result"
    }
   ],
   "source": [
    "df_train = pd.read_csv(PATH_TRAIN_CSV)\n",
    "df_train.head(2)"
   ]
  },
  {
   "cell_type": "markdown",
   "metadata": {},
   "source": [
    "# Test feature extraction"
   ]
  },
  {
   "cell_type": "code",
   "execution_count": 5,
   "metadata": {},
   "outputs": [
    {
     "data": {
      "text/plain": [
       "['./../data_ignore/official/train_audio/aldfly',\n",
       " './../data_ignore/official/train_audio/ameavo',\n",
       " './../data_ignore/official/train_audio/amebit']"
      ]
     },
     "execution_count": 5,
     "metadata": {},
     "output_type": "execute_result"
    }
   ],
   "source": [
    "dir_birds = glob.glob(f'{DIR_AUDIO}/*')\n",
    "dir_birds = sorted(dir_birds)\n",
    "dir_birds[:3]"
   ]
  },
  {
   "cell_type": "markdown",
   "metadata": {},
   "source": [
    "<br>\n",
    "\n",
    "**test 01**\n",
    "- librosa の mfcc_1 を抽出\n",
    "- 1つのwavで平均した mfcc_* を出す\n",
    "- 1_feat/1_audio/1_bird だけ特徴量抽出してみる"
   ]
  },
  {
   "cell_type": "code",
   "execution_count": 52,
   "metadata": {},
   "outputs": [
    {
     "data": {
      "text/html": [
       "\n",
       "    <div>\n",
       "        <style>\n",
       "            /* Turns off some styling */\n",
       "            progress {\n",
       "                /* gets rid of default border in Firefox and Opera. */\n",
       "                border: none;\n",
       "                /* Needs to be in here for Safari polyfill so background images work as expected. */\n",
       "                background-size: auto;\n",
       "            }\n",
       "            .progress-bar-interrupted, .progress-bar-interrupted::-webkit-progress-bar {\n",
       "                background: #F44336;\n",
       "            }\n",
       "        </style>\n",
       "      <progress value='264' class='' max='264' style='width:300px; height:20px; vertical-align: middle;'></progress>\n",
       "      100.00% [264/264 01:12<00:00]\n",
       "    </div>\n",
       "    "
      ],
      "text/plain": [
       "<IPython.core.display.HTML object>"
      ]
     },
     "metadata": {},
     "output_type": "display_data"
    }
   ],
   "source": [
    "df_list = []\n",
    "for dir_bird in progress_bar(dir_birds):\n",
    "    audio_files = glob.glob(f'{dir_bird}/*')\n",
    "    audio_files = sorted(audio_files)\n",
    "    for audio_file in audio_files[:1]:\n",
    "#     for audio_file in audio_files:\n",
    "        window_size = 0.5  # sec\n",
    "        signal, sr = librosa.load(audio_file, sr=None)\n",
    "        \n",
    "        n_fft = int(sr * window_size)\n",
    "        hop_length = int(n_fft/2)\n",
    "        feat_val, feat_name = extract_mfccs(signal,\n",
    "                                            sr=sr,\n",
    "                                            n_fft=n_fft,\n",
    "                                            hop_length=hop_length,\n",
    "                                            n_mels=12,\n",
    "                                           )\n",
    "        feat_val = feat_val.mean(axis=0)\n",
    "        df_feat = pd.DataFrame([feat_val], columns=feat_name)\n",
    "        df_feat = df_feat.drop(['librosa_mfcc_1'], axis=1)\n",
    "        df_feat['birds'] = dir_bird.split('/')[-1]\n",
    "        df_list.append(df_feat)\n",
    "        \n",
    "df_merge01 = pd.concat(df_list)\n",
    "df_merge01 = df.reset_index(drop=True)"
   ]
  },
  {
   "cell_type": "code",
   "execution_count": 53,
   "metadata": {},
   "outputs": [
    {
     "data": {
      "text/html": [
       "\n",
       "    <div>\n",
       "        <style>\n",
       "            /* Turns off some styling */\n",
       "            progress {\n",
       "                /* gets rid of default border in Firefox and Opera. */\n",
       "                border: none;\n",
       "                /* Needs to be in here for Safari polyfill so background images work as expected. */\n",
       "                background-size: auto;\n",
       "            }\n",
       "            .progress-bar-interrupted, .progress-bar-interrupted::-webkit-progress-bar {\n",
       "                background: #F44336;\n",
       "            }\n",
       "        </style>\n",
       "      <progress value='12' class='' max='12' style='width:300px; height:20px; vertical-align: middle;'></progress>\n",
       "      100.00% [12/12 00:00<00:00]\n",
       "    </div>\n",
       "    "
      ],
      "text/plain": [
       "<IPython.core.display.HTML object>"
      ]
     },
     "metadata": {},
     "output_type": "display_data"
    },
    {
     "name": "stdout",
     "output_type": "stream",
     "text": [
      "Mem. usage decreased to  0.00 Mb (0.0% reduction)\n"
     ]
    }
   ],
   "source": [
    "df_merge01 = reduce_mem_usage(df_merge01)"
   ]
  },
  {
   "cell_type": "markdown",
   "metadata": {},
   "source": [
    "<br>\n",
    "\n",
    "**test 02**\n",
    "- librosa の mfcc_1 を抽出\n",
    "- 1つのwavで平均した mfcc_* を出す\n",
    "- m_feat/m_audio/1_bird だけ特徴量抽出してみる"
   ]
  },
  {
   "cell_type": "code",
   "execution_count": 59,
   "metadata": {},
   "outputs": [
    {
     "data": {
      "text/html": [
       "\n",
       "    <div>\n",
       "        <style>\n",
       "            /* Turns off some styling */\n",
       "            progress {\n",
       "                /* gets rid of default border in Firefox and Opera. */\n",
       "                border: none;\n",
       "                /* Needs to be in here for Safari polyfill so background images work as expected. */\n",
       "                background-size: auto;\n",
       "            }\n",
       "            .progress-bar-interrupted, .progress-bar-interrupted::-webkit-progress-bar {\n",
       "                background: #F44336;\n",
       "            }\n",
       "        </style>\n",
       "      <progress value='264' class='' max='264' style='width:300px; height:20px; vertical-align: middle;'></progress>\n",
       "      100.00% [264/264 1:57:19<00:00]\n",
       "    </div>\n",
       "    "
      ],
      "text/plain": [
       "<IPython.core.display.HTML object>"
      ]
     },
     "metadata": {},
     "output_type": "display_data"
    }
   ],
   "source": [
    "df_list = []\n",
    "for dir_bird in progress_bar(dir_birds):\n",
    "    audio_files = glob.glob(f'{dir_bird}/*')\n",
    "    audio_files = sorted(audio_files)\n",
    "#     for audio_file in audio_files[:1]:\n",
    "    for audio_file in audio_files:\n",
    "        window_size = 0.2  # sec\n",
    "        signal, sr = librosa.load(audio_file, sr=None)\n",
    "        \n",
    "        n_fft = int(sr * window_size)\n",
    "        hop_length = int(n_fft/2)\n",
    "        feat_val, feat_name = extract_mfccs(signal,\n",
    "                                            sr=sr,\n",
    "                                            n_fft=n_fft,\n",
    "                                            hop_length=hop_length,\n",
    "                                            n_mels=12,\n",
    "                                           )\n",
    "        feat_val = feat_val.mean(axis=0)\n",
    "        df_feat = pd.DataFrame([feat_val], columns=feat_name)\n",
    "        df_feat = df_feat.drop(['librosa_mfcc_1'], axis=1)\n",
    "        df_feat['birds'] = dir_bird.split('/')[-1]\n",
    "        df_list.append(df_feat)\n",
    "        \n",
    "df_merge01 = pd.concat(df_list)\n",
    "df_merge01 = df_merge.reset_index(drop=True)"
   ]
  },
  {
   "cell_type": "code",
   "execution_count": 69,
   "metadata": {},
   "outputs": [
    {
     "data": {
      "text/html": [
       "\n",
       "    <div>\n",
       "        <style>\n",
       "            /* Turns off some styling */\n",
       "            progress {\n",
       "                /* gets rid of default border in Firefox and Opera. */\n",
       "                border: none;\n",
       "                /* Needs to be in here for Safari polyfill so background images work as expected. */\n",
       "                background-size: auto;\n",
       "            }\n",
       "            .progress-bar-interrupted, .progress-bar-interrupted::-webkit-progress-bar {\n",
       "                background: #F44336;\n",
       "            }\n",
       "        </style>\n",
       "      <progress value='12' class='' max='12' style='width:300px; height:20px; vertical-align: middle;'></progress>\n",
       "      100.00% [12/12 00:00<00:00]\n",
       "    </div>\n",
       "    "
      ],
      "text/plain": [
       "<IPython.core.display.HTML object>"
      ]
     },
     "metadata": {},
     "output_type": "display_data"
    },
    {
     "name": "stdout",
     "output_type": "stream",
     "text": [
      "Mem. usage decreased to  0.61 Mb (68.7% reduction)\n"
     ]
    }
   ],
   "source": [
    "df_merge01 = reduce_mem_usage(df_merge01)"
   ]
  },
  {
   "cell_type": "code",
   "execution_count": 77,
   "metadata": {},
   "outputs": [
    {
     "data": {
      "text/html": [
       "<div>\n",
       "<style scoped>\n",
       "    .dataframe tbody tr th:only-of-type {\n",
       "        vertical-align: middle;\n",
       "    }\n",
       "\n",
       "    .dataframe tbody tr th {\n",
       "        vertical-align: top;\n",
       "    }\n",
       "\n",
       "    .dataframe thead th {\n",
       "        text-align: right;\n",
       "    }\n",
       "</style>\n",
       "<table border=\"1\" class=\"dataframe\">\n",
       "  <thead>\n",
       "    <tr style=\"text-align: right;\">\n",
       "      <th></th>\n",
       "      <th>librosa_mfcc_2</th>\n",
       "      <th>librosa_mfcc_3</th>\n",
       "      <th>librosa_mfcc_4</th>\n",
       "      <th>librosa_mfcc_5</th>\n",
       "      <th>librosa_mfcc_6</th>\n",
       "      <th>librosa_mfcc_7</th>\n",
       "      <th>librosa_mfcc_8</th>\n",
       "      <th>librosa_mfcc_9</th>\n",
       "      <th>librosa_mfcc_10</th>\n",
       "      <th>librosa_mfcc_11</th>\n",
       "      <th>librosa_mfcc_12</th>\n",
       "      <th>birds</th>\n",
       "      <th>filename</th>\n",
       "    </tr>\n",
       "  </thead>\n",
       "  <tbody>\n",
       "    <tr>\n",
       "      <th>0</th>\n",
       "      <td>6.570312</td>\n",
       "      <td>-29.890625</td>\n",
       "      <td>7.218750</td>\n",
       "      <td>-0.891113</td>\n",
       "      <td>1.131836</td>\n",
       "      <td>-1.085938</td>\n",
       "      <td>0.739746</td>\n",
       "      <td>1.166016</td>\n",
       "      <td>0.495117</td>\n",
       "      <td>-0.875977</td>\n",
       "      <td>0.218384</td>\n",
       "      <td>aldfly</td>\n",
       "      <td>XC134874.mp3</td>\n",
       "    </tr>\n",
       "    <tr>\n",
       "      <th>1</th>\n",
       "      <td>21.921875</td>\n",
       "      <td>-13.023438</td>\n",
       "      <td>5.324219</td>\n",
       "      <td>5.566406</td>\n",
       "      <td>-0.260986</td>\n",
       "      <td>-3.242188</td>\n",
       "      <td>1.224609</td>\n",
       "      <td>1.002930</td>\n",
       "      <td>1.748047</td>\n",
       "      <td>-1.192383</td>\n",
       "      <td>-0.193115</td>\n",
       "      <td>aldfly</td>\n",
       "      <td>XC135454.mp3</td>\n",
       "    </tr>\n",
       "    <tr>\n",
       "      <th>2</th>\n",
       "      <td>16.453125</td>\n",
       "      <td>-14.468750</td>\n",
       "      <td>8.078125</td>\n",
       "      <td>4.570312</td>\n",
       "      <td>-0.888184</td>\n",
       "      <td>-3.943359</td>\n",
       "      <td>2.580078</td>\n",
       "      <td>0.588867</td>\n",
       "      <td>0.969727</td>\n",
       "      <td>-0.374268</td>\n",
       "      <td>-0.742188</td>\n",
       "      <td>aldfly</td>\n",
       "      <td>XC135455.mp3</td>\n",
       "    </tr>\n",
       "    <tr>\n",
       "      <th>3</th>\n",
       "      <td>19.390625</td>\n",
       "      <td>-12.804688</td>\n",
       "      <td>6.593750</td>\n",
       "      <td>6.417969</td>\n",
       "      <td>-0.855957</td>\n",
       "      <td>-4.597656</td>\n",
       "      <td>1.674805</td>\n",
       "      <td>1.840820</td>\n",
       "      <td>1.866211</td>\n",
       "      <td>-1.055664</td>\n",
       "      <td>-0.805664</td>\n",
       "      <td>aldfly</td>\n",
       "      <td>XC135456.mp3</td>\n",
       "    </tr>\n",
       "    <tr>\n",
       "      <th>4</th>\n",
       "      <td>30.812500</td>\n",
       "      <td>-3.867188</td>\n",
       "      <td>0.526367</td>\n",
       "      <td>0.631348</td>\n",
       "      <td>-0.657227</td>\n",
       "      <td>-3.546875</td>\n",
       "      <td>1.341797</td>\n",
       "      <td>0.138184</td>\n",
       "      <td>1.067383</td>\n",
       "      <td>-0.087402</td>\n",
       "      <td>0.597168</td>\n",
       "      <td>aldfly</td>\n",
       "      <td>XC135457.mp3</td>\n",
       "    </tr>\n",
       "  </tbody>\n",
       "</table>\n",
       "</div>"
      ],
      "text/plain": [
       "   librosa_mfcc_2  librosa_mfcc_3  librosa_mfcc_4  librosa_mfcc_5  \\\n",
       "0        6.570312      -29.890625        7.218750       -0.891113   \n",
       "1       21.921875      -13.023438        5.324219        5.566406   \n",
       "2       16.453125      -14.468750        8.078125        4.570312   \n",
       "3       19.390625      -12.804688        6.593750        6.417969   \n",
       "4       30.812500       -3.867188        0.526367        0.631348   \n",
       "\n",
       "   librosa_mfcc_6  librosa_mfcc_7  librosa_mfcc_8  librosa_mfcc_9  \\\n",
       "0        1.131836       -1.085938        0.739746        1.166016   \n",
       "1       -0.260986       -3.242188        1.224609        1.002930   \n",
       "2       -0.888184       -3.943359        2.580078        0.588867   \n",
       "3       -0.855957       -4.597656        1.674805        1.840820   \n",
       "4       -0.657227       -3.546875        1.341797        0.138184   \n",
       "\n",
       "   librosa_mfcc_10  librosa_mfcc_11  librosa_mfcc_12   birds      filename  \n",
       "0         0.495117        -0.875977         0.218384  aldfly  XC134874.mp3  \n",
       "1         1.748047        -1.192383        -0.193115  aldfly  XC135454.mp3  \n",
       "2         0.969727        -0.374268        -0.742188  aldfly  XC135455.mp3  \n",
       "3         1.866211        -1.055664        -0.805664  aldfly  XC135456.mp3  \n",
       "4         1.067383        -0.087402         0.597168  aldfly  XC135457.mp3  "
      ]
     },
     "execution_count": 77,
     "metadata": {},
     "output_type": "execute_result"
    }
   ],
   "source": [
    "df_merge01['filename'] = df_train['filename']\n",
    "df_merge01.head()"
   ]
  },
  {
   "cell_type": "markdown",
   "metadata": {},
   "source": [
    "# Save"
   ]
  },
  {
   "cell_type": "code",
   "execution_count": 86,
   "metadata": {},
   "outputs": [
    {
     "data": {
      "text/plain": [
       "'./../data_ignore/features/table/nb004_librosa_mfcc.csv'"
      ]
     },
     "execution_count": 86,
     "metadata": {},
     "output_type": "execute_result"
    }
   ],
   "source": [
    "filename = f'nb{NB}_librosa_mfcc.csv'\n",
    "save_path = f'{DIR_FEAT}/{filename}'\n",
    "save_path"
   ]
  },
  {
   "cell_type": "code",
   "execution_count": 87,
   "metadata": {},
   "outputs": [],
   "source": [
    "df_merge01.to_csv(save_path, index=False, encoding='utf-8')"
   ]
  },
  {
   "cell_type": "raw",
   "metadata": {},
   "source": [
    "\n",
    "\n",
    "\n",
    "\n",
    "\n",
    "\n",
    "\n",
    "\n",
    "\n",
    "\n",
    "\n",
    "\n",
    "\n",
    "\n",
    "\n",
    "\n",
    "\n",
    "\n",
    "\n",
    "\n",
    "\n",
    "\n",
    "\n",
    "\n"
   ]
  }
 ],
 "metadata": {
  "kernelspec": {
   "display_name": "Python 3",
   "language": "python",
   "name": "python3"
  },
  "language_info": {
   "codemirror_mode": {
    "name": "ipython",
    "version": 3
   },
   "file_extension": ".py",
   "mimetype": "text/x-python",
   "name": "python",
   "nbconvert_exporter": "python",
   "pygments_lexer": "ipython3",
   "version": "3.6.10"
  }
 },
 "nbformat": 4,
 "nbformat_minor": 4
}
